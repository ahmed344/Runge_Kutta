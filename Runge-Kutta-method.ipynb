{
 "cells": [
  {
   "cell_type": "markdown",
   "id": "33b2ba82",
   "metadata": {},
   "source": [
    "## Libraries"
   ]
  },
  {
   "cell_type": "code",
   "execution_count": 1,
   "id": "d154ca86",
   "metadata": {},
   "outputs": [],
   "source": [
    "import numpy as np\n",
    "import matplotlib.pyplot as plt\n",
    "from scipy.integrate import RK45"
   ]
  },
  {
   "cell_type": "markdown",
   "id": "8e967af8",
   "metadata": {},
   "source": [
    "# Example\n",
    "## $\\frac{dy}{dx} = 2x$  \n",
    "### where  $x(0) = 5$\n",
    "### The solution is clearly $y = x^2 +5$"
   ]
  },
  {
   "cell_type": "code",
   "execution_count": 2,
   "id": "a734a597",
   "metadata": {},
   "outputs": [
    {
     "name": "stdout",
     "output_type": "stream",
     "text": [
      "1 (9.999999999999999e-05, 5.00000001)\n",
      "2 (0.0011, 5.00000121)\n",
      "3 (0.0111, 5.00012321)\n",
      "4 (0.1111, 5.01234321)\n",
      "5 (1.1111, 6.23454321)\n",
      "6 (4.1111, 21.90114321)\n",
      "7 (7.1111, 55.56774321)\n",
      "8 (10, 105.0)\n"
     ]
    }
   ],
   "source": [
    "def f(x, y):\n",
    "    return 2*x\n",
    "\n",
    "x_0 = 0\n",
    "y_0 = 5\n",
    "x_bound = 10\n",
    "step = 3\n",
    "\n",
    "solution = RK45(fun=f,\n",
    "                t0 = x_0,\n",
    "                y0 = [y_0],\n",
    "                t_bound = x_bound,\n",
    "                max_step=step)\n",
    "\n",
    "# collect data\n",
    "x_values = []\n",
    "y_values = []\n",
    "for i in range(10000):\n",
    "    # get solution step state\n",
    "    solution.step()\n",
    "    x_values.append(solution.t)\n",
    "    y_values.append(solution.y[0])\n",
    "    \n",
    "    # print the solution at each step\n",
    "    print(i+1,(solution.t, solution.y[0]))\n",
    "    \n",
    "    # break loop after modeling is finished\n",
    "    if solution.status == 'finished':\n",
    "        break"
   ]
  },
  {
   "cell_type": "markdown",
   "id": "b89429cb",
   "metadata": {},
   "source": [
    "## Compare the exact solution to the nuvmerical one"
   ]
  },
  {
   "cell_type": "code",
   "execution_count": 3,
   "id": "a77e98c2",
   "metadata": {},
   "outputs": [
    {
     "data": {
      "image/png": "[encoded data removed]",
      "text/plain": [
       "<Figure size 432x288 with 1 Axes>"
      ]
     },
     "metadata": {
      "needs_background": "light"
     },
     "output_type": "display_data"
    }
   ],
   "source": [
    "# plot the exact solution\n",
    "x = np.linspace(0,10,10000)\n",
    "plt.plot(x, np.square(x)+5, label = 'Exact')\n",
    "\n",
    "# plot the numerical solution\n",
    "plt.plot(x_values, y_values, label = 'RK45')\n",
    "\n",
    "plt.xlabel('x')\n",
    "plt.ylabel('y')\n",
    "plt.legend();"
   ]
  }
 ],
 "metadata": {
  "kernelspec": {
   "display_name": "Python 3",
   "language": "python",
   "name": "python3"
  },
  "language_info": {
   "codemirror_mode": {
    "name": "ipython",
    "version": 3
   },
   "file_extension": ".py",
   "mimetype": "text/x-python",
   "name": "python",
   "nbconvert_exporter": "python",
   "pygments_lexer": "ipython3",
   "version": "3.9.6"
  }
 },
 "nbformat": 4,
 "nbformat_minor": 5
}
